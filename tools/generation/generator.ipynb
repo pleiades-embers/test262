{
 "cells": [
  {
   "cell_type": "code",
   "execution_count": null,
   "metadata": {},
   "outputs": [
    {
     "ename": "",
     "evalue": "",
     "output_type": "error",
     "traceback": [
      "\u001b[1;31m运行具有“/usr/local/bin/python3”的单元格需要ipykernel包。\n",
      "\u001b[1;31mRun the following command to install 'ipykernel' into the Python environment. \n",
      "\u001b[1;31mCommand: '/usr/local/bin/python3 -m pip install ipykernel -U --user --force-reinstall'"
     ]
    }
   ],
   "source": [
    "import argparse\n",
    "\n",
    "parser = argparse.ArgumentParser()\n",
    "parser.add_argument(\"value\", type=int, nargs='?', default=5, help=\"an integer for calculating the square value\")\n",
    "args = parser.parse_args()\n",
    "\n",
    "result = args.value ** 2\n",
    "print(f\"The square value of {args.value} is: {result}\")"
   ]
  },
  {
   "cell_type": "code",
   "execution_count": null,
   "metadata": {},
   "outputs": [],
   "source": []
  },
  {
   "cell_type": "code",
   "execution_count": null,
   "metadata": {},
   "outputs": [
    {
     "name": "stderr",
     "output_type": "stream",
     "text": [
      "usage: ipykernel_launcher.py [-h] [--device DEVICE] [--no_cuda]\n",
      "ipykernel_launcher.py: error: unrecognized arguments: --ip=127.0.0.1 --stdin=9008 --control=9006 --hb=9005 --Session.signature_scheme=\"hmac-sha256\" --Session.key=b\"e304a913-3682-4282-89c9-203f2c545860\" --shell=9007 --transport=\"tcp\" --iopub=9009 --f=/Users/bytedance/Library/Jupyter/runtime/kernel-v2-186566mTO4PManFsv.json\n"
     ]
    },
    {
     "ename": "SystemExit",
     "evalue": "2",
     "output_type": "error",
     "traceback": [
      "An exception has occurred, use %tb to see the full traceback.\n",
      "\u001b[0;31mSystemExit\u001b[0m\u001b[0;31m:\u001b[0m 2\n"
     ]
    }
   ],
   "source": [
    "import argparse\n",
    "\n",
    "parser = argparse.ArgumentParser()\n",
    "parser.add_argument('--device', default='0,1', type=str, help='设置使用哪些显卡')\n",
    "parser.add_argument('--no_cuda', action='store_true', help='不适用GPU进行训练')\n",
    "args = parser.parse_args()\n",
    "print(args)"
   ]
  },
  {
   "cell_type": "code",
   "execution_count": null,
   "metadata": {},
   "outputs": [],
   "source": [
    "from __future__ import print_function\n",
    "import argparse\n",
    "import glob, os, sys\n",
    "ignored_files = [\n",
    "    '.DS_Store',\n",
    "]\n",
    "\n",
    "def create(args):\n",
    "    args\n",
    "\n",
    "parser = argparse.ArgumentParser(description='Test262 test generator tool')\n",
    "subparsers = parser.add_subparsers()\n",
    "create_parser = subparsers.add_parser('create',\n",
    "    help='''Generate test material''')\n",
    "create_parser.set_defaults(func=create)\n",
    "\n",
    "# args = parser.parse_args()\n"
   ]
  }
 ],
 "metadata": {
  "kernelspec": {
   "display_name": "Python 3",
   "language": "python",
   "name": "python3"
  },
  "language_info": {
   "codemirror_mode": {
    "name": "ipython",
    "version": 3
   },
   "file_extension": ".py",
   "mimetype": "text/x-python",
   "name": "python",
   "nbconvert_exporter": "python",
   "pygments_lexer": "ipython3",
   "version": "3.11.2"
  },
  "orig_nbformat": 4
 },
 "nbformat": 4,
 "nbformat_minor": 2
}
